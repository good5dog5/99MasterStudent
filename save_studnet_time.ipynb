{
 "cells": [
  {
   "cell_type": "code",
   "execution_count": 208,
   "metadata": {},
   "outputs": [],
   "source": [
    "from bs4 import BeautifulSoup\n",
    "import json\n",
    "from random import randint\n"
   ]
  },
  {
   "cell_type": "code",
   "execution_count": 207,
   "metadata": {},
   "outputs": [
    {
     "name": "stdout",
     "output_type": "stream",
     "text": [
      "4 3 1 2 1\n",
      "2 4 3 2 3\n",
      "3 4 1 3 3\n",
      "1 3 3 4 3\n",
      "3 1 3 2 3\n",
      "2 3 1 3 4\n",
      "1 4 4 2 4\n",
      "猜了 3 題\n"
     ]
    }
   ],
   "source": [
    "with open('db.json', 'r') as fp:\n",
    "    db = json.load(fp)\n",
    "\n",
    "select       = 1\n",
    "questions    = []\n",
    "answer       = []\n",
    "record       = dict()\n",
    "num_of_guess = 0\n",
    "\n",
    "\n",
    "# Read exam page source to get questions\n",
    "with open('exam.html', 'r', encoding='utf-8') as f: \n",
    "    soup = BeautifulSoup(f.read(), 'html.parser')\n",
    "\n",
    "# Extract Questions\n",
    "tr = soup.find(\"table\", {\"class\" : \"table question\"}).find_all('tr')\n",
    "for t in tr:\n",
    "    try:\n",
    "        questions.append(t.find('p').string)\n",
    "    except AttributeError:\n",
    "        pass\n",
    "    \n",
    "# Query for answer\n",
    "for q in questions:\n",
    "    \n",
    "    # If record finded in db\n",
    "    if q in db.keys():\n",
    "        \n",
    "        # more than one possible record in db\n",
    "        if len(db[q]) > 1:\n",
    "            \n",
    "            g_id          = randint(0,len(db[q])-1)\n",
    "            answer.append(str(db[q][g_id]))\n",
    "            num_of_guess += 1\n",
    "            record[q] = guess\n",
    "        else:\n",
    "            answer.append(str(db[q][0]))\n",
    "    # Not yet record\n",
    "    else:\n",
    "        num_of_guess += 1\n",
    "        guess     = str(randint(1,4))\n",
    "        record[q] = guess\n",
    "        answer.append(guess)\n",
    "\n",
    "\n",
    "for i in range(0,len(answer), 5):\n",
    "    print(\" \".join(str(j) for j in answer[i:i+5]))\n",
    "\n",
    "print(\"猜了 \"+str(num_of_guess)+ \" 題\")"
   ]
  },
  {
   "cell_type": "code",
   "execution_count": null,
   "metadata": {
    "collapsed": true
   },
   "outputs": [],
   "source": []
  }
 ],
 "metadata": {
  "kernelspec": {
   "display_name": "Python 3",
   "language": "python",
   "name": "python3"
  },
  "language_info": {
   "codemirror_mode": {
    "name": "ipython",
    "version": 3
   },
   "file_extension": ".py",
   "mimetype": "text/x-python",
   "name": "python",
   "nbconvert_exporter": "python",
   "pygments_lexer": "ipython3",
   "version": "3.6.3"
  }
 },
 "nbformat": 4,
 "nbformat_minor": 2
}
